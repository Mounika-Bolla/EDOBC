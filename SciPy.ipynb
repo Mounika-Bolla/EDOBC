{
  "nbformat": 4,
  "nbformat_minor": 0,
  "metadata": {
    "colab": {
      "provenance": [],
      "authorship_tag": "ABX9TyPIC8sG7isj4AvwNaFX7/au",
      "include_colab_link": true
    },
    "kernelspec": {
      "name": "python3",
      "display_name": "Python 3"
    },
    "language_info": {
      "name": "python"
    }
  },
  "cells": [
    {
      "cell_type": "markdown",
      "metadata": {
        "id": "view-in-github",
        "colab_type": "text"
      },
      "source": [
        "<a href=\"https://colab.research.google.com/github/Mounika-Bolla/EDOBC/blob/main/SciPy.ipynb\" target=\"_parent\"><img src=\"https://colab.research.google.com/assets/colab-badge.svg\" alt=\"Open In Colab\"/></a>"
      ]
    },
    {
      "cell_type": "code",
      "execution_count": null,
      "metadata": {
        "id": "_aeVOLyIQIlg"
      },
      "outputs": [],
      "source": []
    },
    {
      "cell_type": "markdown",
      "source": [
        "# **SciPy**\n",
        "\n",
        "SciPy is a tool for scientific calculations that relies on NumPy.\n",
        "\n",
        "- It's called \"Scientific Python\".\n",
        "- It offers extra tools for tasks like optimization, statistics, and signal processing, just like NumPy. And since it's open source, we can use it for free.\n",
        "\n",
        "###**Why choose SciPy over just using NumPy?**\n",
        "- SciPy not only relies on NumPy but also includes extra features and optimized functions commonly used in NumPy and Data Science.\n",
        "\n",
        "###**Installation**\n",
        "- Just use this command to install it."
      ],
      "metadata": {
        "id": "jOMXfPcTQt_0"
      }
    },
    {
      "cell_type": "code",
      "source": [
        "pip install scipy"
      ],
      "metadata": {
        "colab": {
          "base_uri": "https://localhost:8080/"
        },
        "id": "xpDJ1oFuUtZN",
        "outputId": "f05d30d7-273d-45ad-87eb-2e5bf6919d8f"
      },
      "execution_count": null,
      "outputs": [
        {
          "output_type": "stream",
          "name": "stdout",
          "text": [
            "Requirement already satisfied: scipy in /usr/local/lib/python3.10/dist-packages (1.11.4)\n",
            "Requirement already satisfied: numpy<1.28.0,>=1.21.6 in /usr/local/lib/python3.10/dist-packages (from scipy) (1.23.5)\n"
          ]
        }
      ]
    },
    {
      "cell_type": "markdown",
      "source": [
        "## **Import SciPy**\n"
      ],
      "metadata": {
        "id": "TFXkckCBU9XA"
      }
    },
    {
      "cell_type": "markdown",
      "source": [],
      "metadata": {
        "id": "uv2MTDcuV2WM"
      }
    },
    {
      "cell_type": "code",
      "source": [
        "import scipy\n",
        "from scipy import constants\n",
        "print(constants.liter)"
      ],
      "metadata": {
        "colab": {
          "base_uri": "https://localhost:8080/"
        },
        "id": "fivw72MEVFfd",
        "outputId": "9034a7d9-9fb3-4028-8e19-d210e6e729cf"
      },
      "execution_count": null,
      "outputs": [
        {
          "output_type": "stream",
          "name": "stdout",
          "text": [
            "0.001\n"
          ]
        }
      ]
    },
    {
      "cell_type": "markdown",
      "source": [
        "##**SciPy Version**\n",
        "- The version information is saved in the `__version__` attribute."
      ],
      "metadata": {
        "id": "-TirwBZJVnIA"
      }
    },
    {
      "cell_type": "code",
      "source": [
        "print(scipy.__version__)"
      ],
      "metadata": {
        "colab": {
          "base_uri": "https://localhost:8080/"
        },
        "id": "mZJV2V0ZV3F2",
        "outputId": "256e9442-d016-47c4-d5d5-83902373d879"
      },
      "execution_count": null,
      "outputs": [
        {
          "output_type": "stream",
          "name": "stdout",
          "text": [
            "1.11.4\n"
          ]
        }
      ]
    },
    {
      "cell_type": "markdown",
      "source": [
        "#**Constants in SciPy**\n",
        "- SciPy, short for Scientific Python, is a library for scientific computing that relies on NumPy.\n",
        "- It offers various built-in scientific constants, which come in handy when you're doing tasks related to Data Science.\n",
        "\n",
        "### **Constant Units**\n",
        "- Check out all the units available in the constants module by using the dir() function.\n",
        "\n",
        "###**Unit Categories**\n",
        "The units are placed under these categories:\n",
        "\n",
        "- Metric\n",
        "- Binary\n",
        "- Mass\n",
        "- Angle\n",
        "- Time\n",
        "- Length\n",
        "- Pressure\n",
        "- Volume\n",
        "- Speed\n",
        "- Temperature\n",
        "- Energy\n",
        "- Power\n",
        "- Force\n",
        "\n",
        "> **Metric (SI) prefixes**: These refer to different units in meters, such as \"centi,\" which corresponds to 0.01 meters.\n",
        "\n",
        "\n",
        ">>```\n",
        "print(constants.yotta)    #1e+24\n",
        "print(constants.zetta)    #1e+21\n",
        "print(constants.exa)      #1e+18\n",
        "print(constants.peta)     #1000000000000000.0\n",
        "print(constants.tera)     #1000000000000.0\n",
        "print(constants.giga)     #1000000000.0\n",
        "print(constants.mega)     #1000000.0\n",
        "print(constants.kilo)     #1000.0\n",
        "print(constants.hecto)    #100.0\n",
        "print(constants.deka)     #10.0\n",
        "print(constants.deci)     #0.1\n",
        "print(constants.centi)    #0.01\n",
        "print(constants.milli)    #0.001\n",
        "print(constants.micro)    #1e-06\n",
        "print(constants.nano)     #1e-09\n",
        "print(constants.pico)     #1e-12\n",
        "print(constants.femto)    #1e-15\n",
        "print(constants.atto)     #1e-18\n",
        "print(constants.zepto)    #1e-21\n",
        "```\n",
        "\n",
        "> **Binary prefixes:** These refer to specific units in bytes, where, for instance, \"kibi\" corresponds to 1024 bytes.\n",
        "\n",
        ">>```\n",
        "print(constants.kibi)    #1024\n",
        "print(constants.mebi)    #1048576\n",
        "print(constants.gibi)    #1073741824\n",
        "print(constants.tebi)    #1099511627776\n",
        "print(constants.pebi)    #1125899906842624\n",
        "print(constants.exbi)    #1152921504606846976\n",
        "print(constants.zebi)    #1180591620717411303424\n",
        "print(constants.yobi)    #1208925819614629174706176\n",
        "```\n",
        "\n",
        "\n",
        "> **Mass:** Return the mass in kilograms for the specified unit (like gram, which equals 0.001 kilograms).\n",
        "\n",
        ">>```\n",
        "print(constants.gram)        #0.001\n",
        "print(constants.metric_ton)  #1000.0\n",
        "print(constants.grain)       #6.479891e-05\n",
        "print(constants.lb)          #0.45359236999999997\n",
        "print(constants.pound)       #0.45359236999999997\n",
        "print(constants.oz)          #0.028349523124999998\n",
        "print(constants.ounce)       #0.028349523124999998\n",
        "print(constants.stone)       #6.3502931799999995\n",
        "print(constants.long_ton)    #1016.0469088\n",
        "print(constants.short_ton)   #907.1847399999999\n",
        "print(constants.troy_ounce)  #0.031103476799999998\n",
        "print(constants.troy_pound)  #0.37324172159999996\n",
        "print(constants.carat)       #0.0002\n",
        "print(constants.atomic_mass) #1.66053904e-27\n",
        "print(constants.m_u)         #1.66053904e-27\n",
        "print(constants.u)           #1.66053904e-27\n",
        "```\n",
        "\n",
        "> **Angle:** Convert the given unit to radians, like when you use \"degree,\" it gives you approximately 0.017 radians.\n",
        "\n",
        ">>```\n",
        "print(constants.degree)     #0.017453292519943295\n",
        "print(constants.arcmin)     #0.0002908882086657216\n",
        "print(constants.arcminute)  #0.0002908882086657216\n",
        "print(constants.arcsec)     #4.84813681109536e-06\n",
        "print(constants.arcsecond)  #4.84813681109536e-06\n",
        "```\n",
        "\n",
        "> **Time:** Return the time in 'seconds' for the given unit (like an hour returns 3600.0).\n",
        "\n",
        ">>```\n",
        "print(constants.minute)      #60.0\n",
        "print(constants.hour)        #3600.0\n",
        "print(constants.day)         #86400.0\n",
        "print(constants.week)        #604800.0\n",
        "print(constants.year)        #31536000.0\n",
        "print(constants.Julian_year) #31557600.0\n",
        "```\n",
        "\n",
        "> **Length:** Return the length in meters for the provided unit (for example, nautical_miles will be 1852.0 meters).\n",
        "\n",
        ">>```\n",
        "print(constants.inch)              #0.0254\n",
        "print(constants.foot)              #0.30479999999999996\n",
        "print(constants.yard)              #0.9143999999999999\n",
        "print(constants.mile)              #1609.3439999999998\n",
        "print(constants.mil)               #2.5399999999999997e-05\n",
        "print(constants.pt)                #0.00035277777777777776\n",
        "print(constants.point)             #0.00035277777777777776\n",
        "print(constants.survey_foot)       #0.3048006096012192\n",
        "print(constants.survey_mile)       #1609.3472186944373\n",
        "print(constants.nautical_mile)     #1852.0\n",
        "print(constants.fermi)             #1e-15\n",
        "print(constants.angstrom)          #1e-10\n",
        "print(constants.micron)            #1e-06\n",
        "print(constants.au)                #149597870691.0\n",
        "print(constants.astronomical_unit) #149597870691.0\n",
        "print(constants.light_year)        #9460730472580800.0\n",
        "print(constants.parsec)            #3.0856775813057292e+16\n",
        "```\n",
        "\n",
        "\n",
        "> **Pressure:** Return the pressure value in pascals for the given unit, such as psi, and you'll get 6894.757293168361 pascals in return.\n",
        "\n",
        ">>```\n",
        "print(constants.atm)         #101325.0\n",
        "print(constants.atmosphere)  #101325.0\n",
        "print(constants.bar)         #100000.0\n",
        "print(constants.torr)        #133.32236842105263\n",
        "print(constants.mmHg)        #133.32236842105263\n",
        "print(constants.psi)         #6894.757293168361\n",
        "```\n",
        "\n",
        "> **Area:** Return the area in square meters for the given unit (e.g., hectare equals 10000.0 square meters).\n",
        "\n",
        ">>```\n",
        "print(constants.hectare) #10000.0\n",
        "print(constants.acre)    #4046.8564223999992\n",
        "```\n",
        "\n",
        "> **Volume:** Return the volume in cubic meters for the given unit (e.g., liter corresponds to 0.001 cubic meters).\n",
        "\n",
        ">>```\n",
        "print(constants.liter)            #0.001\n",
        "print(constants.litre)            #0.001\n",
        "print(constants.gallon)           #0.0037854117839999997\n",
        "print(constants.gallon_US)        #0.0037854117839999997\n",
        "print(constants.gallon_imp)       #0.00454609\n",
        "print(constants.fluid_ounce)      #2.9573529562499998e-05\n",
        "print(constants.fluid_ounce_US)   #2.9573529562499998e-05\n",
        "print(constants.fluid_ounce_imp)  #2.84130625e-05\n",
        "print(constants.barrel)           #0.15898729492799998\n",
        "print(constants.bbl)              #0.15898729492799998\n",
        "```\n",
        "\n",
        "\n",
        "> **Speed:** Return the specified unit in meters per second (e.g. speed_of_sound returns 340.5).\n",
        "\n",
        ">>```\n",
        "print(constants.kmh)            #0.2777777777777778\n",
        "print(constants.mph)            #0.44703999999999994\n",
        "print(constants.mach)           #340.5\n",
        "print(constants.speed_of_sound) #340.5\n",
        "print(constants.knot)           #0.5144444444444445\n",
        "```\n",
        "\n",
        "> **Temperature:** Return the specified unit in Kelvin (e.g. zero_Celsius returns 273.15)\n",
        "\n",
        ">>```\n",
        "print(constants.zero_Celsius)      #273.15\n",
        "print(constants.degree_Fahrenheit) #0.5555555555555556\n",
        "```\n",
        "\n",
        "> **Energy:** Return the energy value in joules for the given unit (e.g., calorie corresponds to 4.184 joules).\n",
        "\n",
        ">>```\n",
        "print(constants.eV)            #1.6021766208e-19\n",
        "print(constants.electron_volt) #1.6021766208e-19\n",
        "print(constants.calorie)       #4.184\n",
        "print(constants.calorie_th)    #4.184\n",
        "print(constants.calorie_IT)    #4.1868\n",
        "print(constants.erg)           #1e-07\n",
        "print(constants.Btu)           #1055.05585262\n",
        "print(constants.Btu_IT)        #1055.05585262\n",
        "print(constants.Btu_th)        #1054.3502644888888\n",
        "print(constants.ton_TNT)       #4184000000.0\n",
        "```\n",
        "\n",
        "> **Power:** Return the power value in watts for the given unit (e.g., for horsepower, the result is 745.6998715822701 watts).\n",
        "\n",
        ">>```\n",
        "print(constants.hp)         #745.6998715822701\n",
        "print(constants.horsepower) #745.6998715822701\n",
        "```\n",
        "\n",
        "> **Force:** Return the specified unit in newton (e.g. kilogram_force returns 9.80665).\n",
        "\n",
        ">>```\n",
        "print(constants.dyn)             #1e-05\n",
        "print(constants.dyne)            #1e-05\n",
        "print(constants.lbf)             #4.4482216152605\n",
        "print(constants.pound_force)     #4.4482216152605\n",
        "print(constants.kgf)             #9.80665\n",
        "print(constants.kilogram_force)  #9.80665\n",
        "```"
      ],
      "metadata": {
        "id": "h7avo2zpWLGQ"
      }
    },
    {
      "cell_type": "code",
      "source": [
        "from scipy import constants\n",
        "print(constants.pi)\n",
        "print(\"---dir()---\")\n",
        "print(dir(constants))\n"
      ],
      "metadata": {
        "colab": {
          "base_uri": "https://localhost:8080/"
        },
        "id": "DsM41PeeWuJE",
        "outputId": "a53c28a8-0cc2-4798-bb54-d98afb716785"
      },
      "execution_count": null,
      "outputs": [
        {
          "output_type": "stream",
          "name": "stdout",
          "text": [
            "3.141592653589793\n",
            "---dir()---\n",
            "['Avogadro', 'Boltzmann', 'Btu', 'Btu_IT', 'Btu_th', 'ConstantWarning', 'G', 'Julian_year', 'N_A', 'Planck', 'R', 'Rydberg', 'Stefan_Boltzmann', 'Wien', '__all__', '__builtins__', '__cached__', '__doc__', '__file__', '__loader__', '__name__', '__package__', '__path__', '__spec__', '_codata', '_constants', '_obsolete_constants', 'acre', 'alpha', 'angstrom', 'arcmin', 'arcminute', 'arcsec', 'arcsecond', 'astronomical_unit', 'atm', 'atmosphere', 'atomic_mass', 'atto', 'au', 'bar', 'barrel', 'bbl', 'blob', 'c', 'calorie', 'calorie_IT', 'calorie_th', 'carat', 'centi', 'codata', 'constants', 'convert_temperature', 'day', 'deci', 'degree', 'degree_Fahrenheit', 'deka', 'dyn', 'dyne', 'e', 'eV', 'electron_mass', 'electron_volt', 'elementary_charge', 'epsilon_0', 'erg', 'exa', 'exbi', 'femto', 'fermi', 'find', 'fine_structure', 'fluid_ounce', 'fluid_ounce_US', 'fluid_ounce_imp', 'foot', 'g', 'gallon', 'gallon_US', 'gallon_imp', 'gas_constant', 'gibi', 'giga', 'golden', 'golden_ratio', 'grain', 'gram', 'gravitational_constant', 'h', 'hbar', 'hectare', 'hecto', 'horsepower', 'hour', 'hp', 'inch', 'k', 'kgf', 'kibi', 'kilo', 'kilogram_force', 'kmh', 'knot', 'lambda2nu', 'lb', 'lbf', 'light_year', 'liter', 'litre', 'long_ton', 'm_e', 'm_n', 'm_p', 'm_u', 'mach', 'mebi', 'mega', 'metric_ton', 'micro', 'micron', 'mil', 'mile', 'milli', 'minute', 'mmHg', 'mph', 'mu_0', 'nano', 'nautical_mile', 'neutron_mass', 'nu2lambda', 'ounce', 'oz', 'parsec', 'pebi', 'peta', 'physical_constants', 'pi', 'pico', 'point', 'pound', 'pound_force', 'precision', 'proton_mass', 'psi', 'pt', 'quecto', 'quetta', 'ronna', 'ronto', 'short_ton', 'sigma', 'slinch', 'slug', 'speed_of_light', 'speed_of_sound', 'stone', 'survey_foot', 'survey_mile', 'tebi', 'tera', 'test', 'ton_TNT', 'torr', 'troy_ounce', 'troy_pound', 'u', 'unit', 'value', 'week', 'yard', 'year', 'yobi', 'yocto', 'yotta', 'zebi', 'zepto', 'zero_Celsius', 'zetta']\n"
          ]
        }
      ]
    },
    {
      "cell_type": "markdown",
      "source": [
        "# **SciPy Optimizers**\n",
        "\n",
        "- Optimizers in SciPy are tools that help find the smallest value of a function or the root of an equation.\n",
        "\n",
        "###**Optimizing Functions**\n",
        "- In simple terms, Machine Learning algorithms are like solving a tricky math problem using provided data, where the goal is to find the best solution by minimizing a complex equation.\n",
        "\n",
        "###**Roots of an Equation**\n",
        "\n",
        "> NumPy can find roots for simple equations, but for more complex ones like `x + cos(x)`, you need SciPy's `optimize.root` function. Just provide the equation as a function `fun` and an initial guess for the root `x0`, and it will give you the solution. The result is stored in the 'x' attribute of the output object.\n",
        "\n",
        "##**Minimizing a Function**\n",
        "In math, a function is like a curve, and curves have high points and low points. The high points are called maxima, and the low points are called minima. The highest point on the entire curve is the global maximum, while the others are local maxima. The lowest point on the whole curve is the global minimum, and the others are local minima.\n",
        "\n",
        "###**Finding Minima**\n",
        "\n",
        "You can use the `scipy.optimize.minimize()` function to find the minimum value of a mathematical function. This function requires input such as the equation (fun), an initial guess for the solution (x0), the optimization method to use (like 'CG', 'BFGS', etc.), a callback function for each iteration, and additional options specified in a dictionary. These options include parameters like whether to display detailed information('disp') and the tolerance level for the error('gtol').\n",
        "\n",
        "```\n",
        "**LEGAL VALUES**  \n",
        "    'CG'\n",
        "    'BFGS'\n",
        "    'Newton-CG'\n",
        "    'L-BFGS-B'\n",
        "    'TNC'\n",
        "    'COBYLA'\n",
        "    'SLSQP'\n",
        "\n",
        "Options:-\n",
        "\n",
        "  {\n",
        "     \"disp\": boolean - print detailed description\n",
        "     \"gtol\": number - the tolerance of the error\n",
        "  }\n",
        "```\n",
        "\n"
      ],
      "metadata": {
        "id": "xYo3fZ_DXkag"
      }
    },
    {
      "cell_type": "code",
      "source": [
        "from scipy.optimize import root\n",
        "from math import sin\n",
        "\n",
        "def equation(x):\n",
        "  return x + sin(x)\n",
        "\n",
        "my_root = root(equation,0)\n",
        "print(my_root)\n",
        "print(my_root.x)\n",
        "\n",
        "\n",
        "print(\"-------------------------------------------------\")\n",
        "#To minimize a quadratic equation with 'BFGS' Method\n",
        "\n",
        "from scipy.optimize import minimize\n",
        "\n",
        "def eqn(x):\n",
        "  return x**2 + x + 2\n",
        "\n",
        "mymin = minimize(eqn, 0, method = 'BFGS')\n",
        "print(mymin)\n",
        "print(mymin.x)"
      ],
      "metadata": {
        "colab": {
          "base_uri": "https://localhost:8080/"
        },
        "id": "c-i5WfjEdQgQ",
        "outputId": "25185cad-9eba-48c5-fd40-d297a39e2a1f"
      },
      "execution_count": null,
      "outputs": [
        {
          "output_type": "stream",
          "name": "stdout",
          "text": [
            " message: The solution converged.\n",
            " success: True\n",
            "  status: 1\n",
            "     fun: [ 0.000e+00]\n",
            "       x: [ 0.000e+00]\n",
            "    nfev: 3\n",
            "    fjac: [[-1.000e+00]]\n",
            "       r: [-2.000e+00]\n",
            "     qtf: [ 0.000e+00]\n",
            "[0.]\n",
            "-------------------------------------------------\n",
            "  message: Optimization terminated successfully.\n",
            "  success: True\n",
            "   status: 0\n",
            "      fun: 1.75\n",
            "        x: [-5.000e-01]\n",
            "      nit: 2\n",
            "      jac: [ 0.000e+00]\n",
            " hess_inv: [[ 5.000e-01]]\n",
            "     nfev: 8\n",
            "     njev: 4\n",
            "[-0.50000001]\n"
          ]
        }
      ]
    },
    {
      "cell_type": "markdown",
      "source": [
        "# **Sparse Data**\n",
        "- **Sparse data** is like a special type of list ([1, 0, 10, 0, 4, 0, 5, 0, 0, 0, 1, 0]) where many of the numbers are zero, and they don't carry any information.\n",
        "- On the other hand, a **dense array** is kind of the opposite, where most of the numbers are not zero and actually give us meaningful information.\n",
        "\n",
        "> When working with partial derivatives in math for scientific purposes, we often encounter data that's not densely packed, which is called sparse data in linear algebra.\n",
        "\n",
        "##**Working with Sparse Data**\n",
        " SciPy's sparse module helps handle sparse data using two main types of matrices: **CSC**, which stands for **Compressed Sparse Column** and is useful for fast column operations (for efficient arithmetic), and **CSR**, which stands for **Compressed Sparse Row** and is efficient for rapid row operations(row slicing) and faster matrix-vector products.\n",
        "\n",
        " ### **CSR Matrix**\n",
        " - We can create a CSR matrix by passing an array into the `scipy.sparse.csr_matrix()` function.\n",
        "\n",
        "\n",
        " ### **Sparse Matrix Methods**\n",
        " - Viewing stored data (not the zero items) with the `data` property.\n",
        "\n",
        " - Count the nonzeros with the `count_nonzero()` method.\n",
        "\n",
        " - Remove zero-entries from the matrix with the `eliminate_zeros()` method.\n",
        "\n",
        " - Eliminate duplicate entries (Matrix) with the `sum_duplicates()` method. This is an in place operation.\n",
        "\n",
        " - Convert from csr to csc with the `tocsc()` method.\n",
        "\n",
        " > Sparse matrices, in addition to their specific operations, can perform all the standard matrix operations like reshaping, summing, arithmetic, and broadcasting, just like regular matrices."
      ],
      "metadata": {
        "id": "KohkGiuQkOpV"
      }
    },
    {
      "cell_type": "code",
      "source": [
        "import numpy as np\n",
        "from scipy.sparse import csr_matrix\n",
        "\n",
        "arr = np.array([1,3,4,4,5,9,0,0,0,0,9,7,0,1,1,0])\n",
        "print(csr_matrix(arr))\n",
        "# (row, position) ---> Value\n",
        "arr1 = np.array([[1,2,3],[1,3,6],[1,0,0],[0,1,0]])\n",
        "arr2 = np.array([[1,2,3],[1,3,6],[1,0,0],[0,0,0]])\n",
        "print(csr_matrix(arr).data) # To view the stored data(non zero items)\n",
        "print(csr_matrix(arr1).data)\n",
        "print(csr_matrix(arr1).count_nonzero()) # To count the non-zeros\n",
        "print(csr_matrix(arr2).eliminate_zeros()) # To remove zero entries\n",
        "mat = csr_matrix(arr2)\n",
        "mat.eliminate_zeros()\n",
        "print(mat)\n",
        "print(csr_matrix(arr2))\n",
        "print(\"--------------------\")\n",
        "arr3 = np.array([[1,2,3],[1,3,6],[1,0,0],[1,1,0],[1,1,0]])\n",
        "mat1 = csr_matrix(arr3)\n",
        "mat1.sum_duplicates()\n",
        "print(mat1)\n",
        "print(\"--------------------\")\n",
        "mat2 = csr_matrix(arr3)\n",
        "print(mat2.tocsc())"
      ],
      "metadata": {
        "colab": {
          "base_uri": "https://localhost:8080/"
        },
        "id": "7-F47Rm1CIGc",
        "outputId": "e3f33d11-cedf-4673-d0a1-83416bd6986c"
      },
      "execution_count": 22,
      "outputs": [
        {
          "output_type": "stream",
          "name": "stdout",
          "text": [
            "  (0, 0)\t1\n",
            "  (0, 1)\t3\n",
            "  (0, 2)\t4\n",
            "  (0, 3)\t4\n",
            "  (0, 4)\t5\n",
            "  (0, 5)\t9\n",
            "  (0, 10)\t9\n",
            "  (0, 11)\t7\n",
            "  (0, 13)\t1\n",
            "  (0, 14)\t1\n",
            "[1 3 4 4 5 9 9 7 1 1]\n",
            "[1 2 3 1 3 6 1 1]\n",
            "8\n",
            "None\n",
            "  (0, 0)\t1\n",
            "  (0, 1)\t2\n",
            "  (0, 2)\t3\n",
            "  (1, 0)\t1\n",
            "  (1, 1)\t3\n",
            "  (1, 2)\t6\n",
            "  (2, 0)\t1\n",
            "  (0, 0)\t1\n",
            "  (0, 1)\t2\n",
            "  (0, 2)\t3\n",
            "  (1, 0)\t1\n",
            "  (1, 1)\t3\n",
            "  (1, 2)\t6\n",
            "  (2, 0)\t1\n",
            "--------------------\n",
            "  (0, 0)\t1\n",
            "  (0, 1)\t2\n",
            "  (0, 2)\t3\n",
            "  (1, 0)\t1\n",
            "  (1, 1)\t3\n",
            "  (1, 2)\t6\n",
            "  (2, 0)\t1\n",
            "  (3, 0)\t1\n",
            "  (3, 1)\t1\n",
            "  (4, 0)\t1\n",
            "  (4, 1)\t1\n",
            "--------------------\n",
            "  (0, 0)\t1\n",
            "  (1, 0)\t1\n",
            "  (2, 0)\t1\n",
            "  (3, 0)\t1\n",
            "  (4, 0)\t1\n",
            "  (0, 1)\t2\n",
            "  (1, 1)\t3\n",
            "  (3, 1)\t1\n",
            "  (4, 1)\t1\n",
            "  (0, 2)\t3\n",
            "  (1, 2)\t6\n"
          ]
        }
      ]
    }
  ]
}